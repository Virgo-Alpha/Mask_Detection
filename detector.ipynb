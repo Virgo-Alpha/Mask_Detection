{
  "cells": [
    {
      "cell_type": "markdown",
      "metadata": {
        "id": "9CQBGFvnYStG"
      },
      "source": [
        "Following this tutorial: https://zindi.africa/learn/spot-the-mask-challenge-tutorial-a-deep-learning-approach"
      ]
    },
    {
      "cell_type": "code",
      "execution_count": null,
      "metadata": {
        "colab": {
          "base_uri": "https://localhost:8080/"
        },
        "id": "461L03oGYivM",
        "outputId": "c6add898-78ae-4069-b299-b9367f657ce4"
      },
      "outputs": [],
      "source": [
        "from google.colab import drive\n",
        "drive.mount('/content/drive')"
      ]
    },
    {
      "cell_type": "markdown",
      "metadata": {
        "id": "XhkZL5CvYStK"
      },
      "source": [
        "Keras is a deep learning framework built for Python which provides methods to train deep learning models. Keras has built-in support for CNNs (for computer vision) and has a user-friendly API that makes it easy to quickly prototype deep learning models.\n",
        "\n",
        "Importing the sequential method, means that all the layers in the model will be arranged in sequence. The importance of ImageDataGenerator is to generate batches of tensor image data with real-time data augmentation. It has very many useful functions such as rescaling, rotating, zooming etc.\n",
        "\n",
        "The keras.layers import gives us access to layers that we need to build our CNN which are described above. Layers are the building blocks of neural networks.\n",
        "\n",
        "Optimizers are necessary for improving your model speed and performance. Optimizers shape the model into its most accurate form by playing with model weights.\n",
        "\n",
        "VGG16 is a convolutional neural network architecture which provides 16 layers. Its a pretrained model. VGG16 is a model employs the transfer learning architecture. Transfer learning is the art of reusing a model on one task and repurposing it on another task.\n",
        "\n",
        "Pandas library provides built-in methods for data manipulation.\n",
        "\n",
        "Matplotlib is used for creating graphs where necessary when building our model.\n",
        "\n",
        "The IPython.display imports a method for viewing images within the notebook."
      ]
    },
    {
      "cell_type": "code",
      "execution_count": null,
      "metadata": {
        "id": "uTAmC_NiYStM"
      },
      "outputs": [],
      "source": [
        "# Importing the relevant libraries\n",
        "import numpy as np\n",
        "import pandas as pd\n",
        "import cv2\n",
        "import matplotlib.pyplot as plt\n",
        "import random\n",
        "from IPython.display import Image as ShowImage\n",
        "# Keras libraries\n",
        "from keras.models import Sequential\n",
        "from keras.layers import Conv2D, MaxPooling2D, Dropout, Flatten, Dense, Activation, BatchNormalization,GlobalMaxPooling2D\n",
        "from tensorflow.keras.applications.vgg16 import VGG16\n",
        "from keras.preprocessing.image import ImageDataGenerator\n",
        "from tensorflow.keras import optimizers\n",
        "from keras.models import Model"
      ]
    },
    {
      "cell_type": "code",
      "execution_count": null,
      "metadata": {
        "colab": {
          "base_uri": "https://localhost:8080/",
          "height": 206
        },
        "id": "FUvLBs4FYStN",
        "outputId": "40f06f7d-30c0-4a7a-fc4c-553a5002f871"
      },
      "outputs": [],
      "source": [
        "# Reading the data\n",
        "train_labels = pd.read_csv(\"/content/drive/My Drive/Colab Notebooks/Data/train_labels.csv\")\n",
        "\n",
        "# Show the first 5 rows\n",
        "train_labels.head()"
      ]
    },
    {
      "cell_type": "code",
      "execution_count": null,
      "metadata": {
        "colab": {
          "base_uri": "https://localhost:8080/",
          "height": 442
        },
        "id": "8c8CGJBeYStO",
        "outputId": "0b3ffcad-2ba8-4d9d-f16e-b26a45e6c64f"
      },
      "outputs": [],
      "source": [
        "train_labels['target'].value_counts().plot.bar()"
      ]
    },
    {
      "cell_type": "code",
      "execution_count": null,
      "metadata": {
        "colab": {
          "base_uri": "https://localhost:8080/"
        },
        "id": "vjM998ysZiBF",
        "outputId": "1a1d5bb6-e0d9-4582-d3c3-71e3eca852c3"
      },
      "outputs": [],
      "source": [
        "train_labels['target'].value_counts()"
      ]
    },
    {
      "cell_type": "code",
      "execution_count": null,
      "metadata": {
        "id": "EYJZRAXIYStP"
      },
      "outputs": [],
      "source": [
        "# Extracting the zip file\n",
        "# !unzip -q \"/content/drive/My Drive/Colab Notebooks/Data/images.zip\" -d \"/content/drive/My Drive//Colab Notebooks/Data/\""
      ]
    },
    {
      "cell_type": "code",
      "execution_count": null,
      "metadata": {
        "colab": {
          "base_uri": "https://localhost:8080/",
          "height": 516
        },
        "id": "9tv45PzWYStP",
        "outputId": "8a666704-032d-424b-94b1-5fcaac4bc91d"
      },
      "outputs": [],
      "source": [
        "# We can view the images with the ShowImage functionality\n",
        "ShowImage(\"/content/drive/My Drive/Colab Notebooks/Data/images/aadawlxbmapqrblgxyzarhjasgiobu.png\")"
      ]
    },
    {
      "cell_type": "markdown",
      "metadata": {
        "id": "dDxvCTXCYStQ"
      },
      "source": [
        "If you found this fun, you can also use the OpenCV Library to view images!"
      ]
    },
    {
      "cell_type": "code",
      "execution_count": null,
      "metadata": {
        "colab": {
          "base_uri": "https://localhost:8080/",
          "height": 412
        },
        "id": "6qHFlp5YYStQ",
        "outputId": "94fdae4b-28f0-4d6b-b301-282f02dc40a5"
      },
      "outputs": [],
      "source": [
        "import cv2\n",
        "import random\n",
        "import os\n",
        "\n",
        "# This stores the location of the data source\n",
        "data = os.listdir(\"/content/drive/My Drive/Colab Notebooks/Data/images\")\n",
        "\n",
        "# Picking random sample from data list\n",
        "sample = random.choice(data)\n",
        "\n",
        "# The imread method loads image from the sprcified file\n",
        "img = cv2.imread(\"/content/drive/My Drive/Colab Notebooks/Data/images/\"+sample)\n",
        "\n",
        "# The cmap parameter displays the image in gray\n",
        "plt.imshow(img, cmap=\"gray\")"
      ]
    },
    {
      "cell_type": "markdown",
      "metadata": {
        "id": "kgXGWwKAYStR"
      },
      "source": [
        "Sample_submission.csv\n",
        "\n",
        "This is the file that is used for making submissions after you have created your model.\n",
        "\n",
        "We should replace the target variables (0,1) into categories (mask, unmask) using the replace method."
      ]
    },
    {
      "cell_type": "code",
      "execution_count": null,
      "metadata": {
        "id": "UBLlm3BxYStR"
      },
      "outputs": [],
      "source": [
        "# train_labels[\"target\"] = train_labels[\"target\"].replace({0: 'unmask', 1: 'mask'})"
      ]
    },
    {
      "cell_type": "code",
      "execution_count": null,
      "metadata": {
        "id": "wDcXhQTVVEyI"
      },
      "outputs": [],
      "source": [
        "# Save the trained model\n",
        "# model.save(\"/content/drive/My Drive/Colab Notebooks/Data/masked_model.keras\")\n",
        "\n",
        "# To load the saved model later, you can use:\n",
        "# loaded_model = load_model(\"/content/drive/My Drive/Colab Notebooks/Data/trained_model.h5\")"
      ]
    },
    {
      "cell_type": "markdown",
      "metadata": {
        "id": "tmpTiGDaRWop"
      },
      "source": [
        "## Climbing the Ladder: Image Recognition for ML Competitions (Tutorial)"
      ]
    },
    {
      "cell_type": "markdown",
      "metadata": {
        "id": "EL4T4vmDRZ3z"
      },
      "source": [
        "### Experiment 1: Baseline Model\n",
        "\n",
        "Before we get fancy, we're going to assume you're already using some good practices in your model. Specifically:\n",
        "\n",
        "1. Transfer learning\n",
        "2. Data Augmentation\n",
        "\n",
        "Specifically, we will use [this tutorial](https://zindi.africa/learn/climbing-the-ladder-image-recognition-for-ml-competitions-tutorial)\n",
        "\n",
        "Cyclic learning rates, choosing a good learning rate, gradually unfreezing and training a pre-trained model... all techniques that have become mainstream in the past few years. You'll see fancy LR schedulers varying the LR, and everyone wants to invent the latest profile. Use whatever comes with your library - see the demo notebook where we use lr_find and fit_one_cycle methods from fastai."
      ]
    },
    {
      "cell_type": "code",
      "execution_count": null,
      "metadata": {
        "colab": {
          "base_uri": "https://localhost:8080/"
        },
        "id": "Fl5E5KWHRV2b",
        "outputId": "ef83fe14-fca4-453c-ff0b-b2805fad8120"
      },
      "outputs": [],
      "source": [
        "!pip install fastai2 --upgrade"
      ]
    },
    {
      "cell_type": "code",
      "execution_count": null,
      "metadata": {
        "id": "utxCcQNkUk_K"
      },
      "outputs": [],
      "source": [
        "import fastai2\n",
        "from fastai2 import *\n",
        "from sklearn.metrics import log_loss as skll\n",
        "import random\n",
        "import matplotlib\n",
        "from matplotlib import pyplot as plt\n",
        "matplotlib.style.use('fivethirtyeight')\n",
        "%matplotlib inline"
      ]
    },
    {
      "cell_type": "code",
      "execution_count": null,
      "metadata": {
        "colab": {
          "base_uri": "https://localhost:8080/",
          "height": 143
        },
        "id": "xSMdW2CSUrRU",
        "outputId": "4b604715-1400-4a96-b4f7-d96daa9f436b"
      },
      "outputs": [],
      "source": [
        "import copy\n",
        "\n",
        "df = copy.deepcopy(train_labels)\n",
        "\n",
        "df['file_path'] = 'all_data/'+df['image']+'.JPG'\n",
        "df.head(3)"
      ]
    },
    {
      "cell_type": "code",
      "execution_count": null,
      "metadata": {
        "colab": {
          "base_uri": "https://localhost:8080/"
        },
        "id": "qzUaDJF5Z4Ir",
        "outputId": "1ab461a2-3acc-4756-af02-db9de79d418a"
      },
      "outputs": [],
      "source": [
        "# Set up a consistent validation set, to use for local scoring and comparing our different models\n",
        "df = df.sample(frac=1.0).reset_index() # Shuffle for good measure\n",
        "df['val'] = [int(random.random()>0.8) for _ in df.values] # 80% train, 20% val\n",
        "df['val'].value_counts() # Check the number of rows in train (0) and val(1)"
      ]
    },
    {
      "cell_type": "markdown",
      "metadata": {
        "id": "t9RGHJDIaDzc"
      },
      "source": [
        "We're going to make a decent model here, without digging too deeply into what it's doing - we'll unpack this as we move forward, but for now this should give us a score to compare everything else to.\n",
        "\n",
        "You'll notice we're playing with the datablock API here. There are simpler ways to do this (see the docs for fastai v1 or v2 - both have convenience functions). But we'll be customising these later to have some fun and boost our scores."
      ]
    },
    {
      "cell_type": "code",
      "execution_count": null,
      "metadata": {
        "colab": {
          "base_uri": "https://localhost:8080/",
          "height": 770
        },
        "id": "KT_lLq0jaEVx",
        "outputId": "86f69f3a-cfbd-4014-aa91-62091e7a38b7"
      },
      "outputs": [],
      "source": [
        "# We're using custom functions to get the input image and the label\n",
        "from fastai.data.all import *\n",
        "from fastai.vision.all import *\n",
        "from fastai.vision.augment import Resize\n",
        "from PIL import Image\n",
        "\n",
        "def get_x(ID):\n",
        "    # Load the image\n",
        "    im = Image.open(f'/content/drive/My Drive/Colab Notebooks/Data/images/{ID}')\n",
        "\n",
        "    # Convert grayscale image to RGB if it has only one channel\n",
        "    # if im.mode == 'L':\n",
        "    im = im.convert('RGB')\n",
        "\n",
        "    # Resize the image to a consistent size if needed\n",
        "    im = im.resize((224, 224))\n",
        "\n",
        "    # Return the image as a numpy array\n",
        "    return np.array(im)\n",
        "\n",
        "# And the label\n",
        "def get_y(ID):\n",
        "  label = df.loc[df.image == ID]['target'].values[0]\n",
        "  return int(label)\n",
        "\n",
        "# Get the list of Image IDS:\n",
        "def get_im_ids(path):\n",
        "  return df.image.values\n",
        "\n",
        "# And build the datablock\n",
        "dblock = DataBlock(\n",
        "    blocks=(ImageBlock, CategoryBlock),\n",
        "    get_items=get_im_ids,\n",
        "    get_x=get_x,\n",
        "    get_y=get_y,\n",
        "    splitter=IndexSplitter(np.argwhere(df['val'].values == 1)),\n",
        "    batch_tfms=aug_transforms(size=224, min_scale=0.75),\n",
        "    # Add Resize transform to ensure all images have the same size\n",
        "    item_tfms=Resize((224, 224))\n",
        ")\n",
        "\n",
        "dls = dblock.dataloaders(\n",
        "    Path(''),\n",
        "    bs=16,\n",
        "    seed=42,\n",
        "    batch_tfms=[*aug_transforms(size=(3, 244,244)),\n",
        "                Normalize.from_stats(*imagenet_stats)],\n",
        "    )\n",
        "dls.show_batch()"
      ]
    },
    {
      "cell_type": "code",
      "execution_count": null,
      "metadata": {
        "id": "UO52IjDpah8M"
      },
      "outputs": [],
      "source": [
        "# Create the learner\n",
        "learn = vision_learner(dls, resnet34)"
      ]
    },
    {
      "cell_type": "code",
      "execution_count": null,
      "metadata": {
        "colab": {
          "base_uri": "https://localhost:8080/",
          "height": 207
        },
        "id": "AasmjDbUakL5",
        "outputId": "83546fee-8de1-4fb9-ebeb-b6cef1d0cf13"
      },
      "outputs": [],
      "source": [
        "learn.fine_tune(3) # The 3 is the number of epochs"
      ]
    },
    {
      "cell_type": "code",
      "execution_count": null,
      "metadata": {
        "id": "2txN88tO5mvU"
      },
      "outputs": [],
      "source": [
        "# Save the model -- comment out when reloading\n",
        "\n",
        "learn.export('/content/drive/My Drive/Colab Notebooks/mask_classifier_model.pkl')"
      ]
    },
    {
      "cell_type": "code",
      "execution_count": null,
      "metadata": {
        "id": "HzaC8F2J6BIh"
      },
      "outputs": [],
      "source": [
        "from fastai.learner import load_learner\n",
        "\n",
        "# Specify the path to the exported model file\n",
        "model_path = '/content/drive/My Drive/Colab Notebooks/mask_classifier_model.pkl'\n",
        "\n",
        "# Load the model\n",
        "learn = load_learner(model_path)\n",
        "# type(learn)"
      ]
    },
    {
      "cell_type": "code",
      "execution_count": null,
      "metadata": {
        "colab": {
          "base_uri": "https://localhost:8080/"
        },
        "id": "V5Ok2rxRYfx_",
        "outputId": "5e39d482-edff-44e4-f3f1-32c2f0809182"
      },
      "outputs": [],
      "source": [
        "print(test)"
      ]
    },
    {
      "cell_type": "code",
      "execution_count": null,
      "metadata": {
        "colab": {
          "base_uri": "https://localhost:8080/",
          "height": 34
        },
        "id": "qfcw9BC_Vr0O",
        "outputId": "91f35b5d-dd44-48b0-9460-dbae23ce7963"
      },
      "outputs": [],
      "source": [
        "# 1. Load the image\n",
        "# !pip install fastai.vision\n",
        "from fastai.vision import *\n",
        "\n",
        "image_path = \"zkmcdlytdocncvgmigqhklfvjqwrni.jpg\"\n",
        "\n",
        "# 2. Create a single-image dataloader\n",
        "dl = learn.dls.test_dl([image_path])\n",
        "\n",
        "# 3. Get predictions for the single image\n",
        "test_pred, _ = learn.get_preds(dl=dl)\n",
        "\n",
        "# 6. Print the prediction\n",
        "print(\"Predicted class:\", [test_pred.numpy()][0][0][1])"
      ]
    },
    {
      "cell_type": "code",
      "execution_count": null,
      "metadata": {
        "colab": {
          "base_uri": "https://localhost:8080/",
          "height": 224
        },
        "id": "FWEHH1VFCxBV",
        "outputId": "ad2647b1-2b63-4901-ac47-2ba46af88c54"
      },
      "outputs": [],
      "source": [
        "# Here we are creating a list of pictures - we are appending images on the list.\n",
        "# Our data source is the original data before splitting to test and train data\n",
        "target=[]\n",
        "\n",
        "for i in data:\n",
        "    flag=0\n",
        "    for j in train_labels[\"image\"]:\n",
        "        if(i==j):\n",
        "            flag=1\n",
        "            break\n",
        "    if(flag==0):\n",
        "        target.append(i)\n",
        "\n",
        "#creating a test dataframe with images and the target is umask for all images\n",
        "test = pd.DataFrame({\n",
        "    'image': target,\n",
        "    'target':\"unmask\"\n",
        "})\n",
        "print(test.shape)\n",
        "test.head()"
      ]
    },
    {
      "cell_type": "code",
      "execution_count": null,
      "metadata": {
        "colab": {
          "base_uri": "https://localhost:8080/",
          "height": 17
        },
        "id": "5Py8MxzPaqMS",
        "outputId": "69c120f2-5825-418b-fa0a-6ebf13ca7d17"
      },
      "outputs": [],
      "source": [
        "# Create a test dataloader and get predictions\n",
        "tdl = learn.dls.test_dl(test['image'].values)\n",
        "test_preds, test_labels = learn.get_preds(dl=tdl, reorder=False)"
      ]
    },
    {
      "cell_type": "code",
      "execution_count": null,
      "metadata": {
        "colab": {
          "base_uri": "https://localhost:8080/",
          "height": 224
        },
        "id": "7f5Jq2myauaZ",
        "outputId": "d8780c51-b393-48c4-89b8-0222b1e7253b"
      },
      "outputs": [],
      "source": [
        "# Make a submission dataframe\n",
        "sub = pd.DataFrame({\n",
        "    'image':test['image'],\n",
        "    'target':[p[1] for p in test_preds.numpy()]\n",
        "})\n",
        "print(sub.shape) # 509, 2\n",
        "sub.head()"
      ]
    },
    {
      "cell_type": "code",
      "execution_count": null,
      "metadata": {
        "id": "sOz1qC3Zaxto"
      },
      "outputs": [],
      "source": [
        "sub.to_csv(\"/content/drive/My Drive/Colab Notebooks/Data/masked_submission2.csv\", index=False)\n",
        "# Score: 0.992504245"
      ]
    },
    {
      "cell_type": "markdown",
      "metadata": {
        "id": "_lMexTc-unyq"
      },
      "source": [
        "#### Pick an explicit learning rate\n",
        "\n",
        "To explicitly pick learning rates, you can use the lr_find method to find a suitable learning rate and then use that learning rate(s) in your training."
      ]
    },
    {
      "cell_type": "code",
      "execution_count": null,
      "metadata": {
        "id": "8-f4QkV37vTy"
      },
      "outputs": [],
      "source": [
        "# Create the learner\n",
        "learn = vision_learner(dls, resnet34)"
      ]
    },
    {
      "cell_type": "code",
      "execution_count": null,
      "metadata": {
        "colab": {
          "base_uri": "https://localhost:8080/",
          "height": 607
        },
        "id": "akqw1qkHBPgp",
        "outputId": "9806e312-f447-4152-be22-80a9e08975e1"
      },
      "outputs": [],
      "source": [
        "# Find a suitable learning rate\n",
        "lr_min = learn.lr_find()\n",
        "\n",
        "# Choose a learning rate(s) based on the plot generated by lr_find\n",
        "learn.fit_one_cycle(3, lr_max=lr_min)  # For example, using the minimum learning rate found"
      ]
    },
    {
      "cell_type": "code",
      "execution_count": null,
      "metadata": {
        "id": "PSRqlIIPivRX"
      },
      "outputs": [],
      "source": [
        "# Save the model\n",
        "learn.export('/content/drive/My Drive/Colab Notebooks/Data/mask_classifier_model.pkl')"
      ]
    },
    {
      "cell_type": "code",
      "execution_count": null,
      "metadata": {
        "id": "cF97T_Ko6PZh"
      },
      "outputs": [],
      "source": [
        "from fastai.learner import load_learner\n",
        "\n",
        "# Load the model\n",
        "learn = load_learner('/content/drive/My Drive/Colab Notebooks/Data/mask_classifier_model.pkl')"
      ]
    },
    {
      "cell_type": "code",
      "execution_count": null,
      "metadata": {
        "colab": {
          "base_uri": "https://localhost:8080/",
          "height": 17
        },
        "id": "wvnCmye1vNUm",
        "outputId": "b0d46a30-56b1-467f-c684-abf9860dde0c"
      },
      "outputs": [],
      "source": [
        "# Create a test dataloader and get predictions\n",
        "tdl = learn.dls.test_dl(test['image'].values)\n",
        "test_preds, test_labels = learn.get_preds(dl=tdl, reorder=False)"
      ]
    },
    {
      "cell_type": "code",
      "execution_count": null,
      "metadata": {
        "colab": {
          "base_uri": "https://localhost:8080/",
          "height": 224
        },
        "id": "xR6q7u9OvUQt",
        "outputId": "f4ee7f2d-d1b3-401e-a850-c3373766ef43"
      },
      "outputs": [],
      "source": [
        "# Make a submission dataframe\n",
        "sub = pd.DataFrame({\n",
        "    'image':test['image'],\n",
        "    'target':[p[1] for p in test_preds.numpy()]\n",
        "})\n",
        "print(sub.shape) # 509, 2\n",
        "sub.head()"
      ]
    },
    {
      "cell_type": "code",
      "execution_count": null,
      "metadata": {
        "id": "DDgeJNlCveDr"
      },
      "outputs": [],
      "source": [
        "sub.to_csv(\"/content/drive/My Drive/Colab Notebooks/Data/masked_submission3.csv\", index=False)\n",
        "# Score: 0.997390767"
      ]
    },
    {
      "cell_type": "markdown",
      "metadata": {
        "id": "Sxi0b6HrIxA9"
      },
      "source": [
        "### Experiment 2: TTA For the win"
      ]
    },
    {
      "cell_type": "code",
      "execution_count": null,
      "metadata": {
        "id": "Rb2Cybq4KIta"
      },
      "outputs": [],
      "source": [
        "# Create the learner\n",
        "learn = vision_learner(dls, resnet34)"
      ]
    },
    {
      "cell_type": "code",
      "execution_count": null,
      "metadata": {
        "colab": {
          "base_uri": "https://localhost:8080/",
          "height": 670
        },
        "id": "-uTvJItXKNCz",
        "outputId": "30713fb5-08c1-432f-8bd9-f1b38b84fbeb"
      },
      "outputs": [],
      "source": [
        "# Find a suitable learning rate\n",
        "lr_min = learn.lr_find()\n",
        "\n",
        "# Choose a learning rate(s) based on the plot generated by lr_find\n",
        "learn.fit_one_cycle(5, lr_max=lr_min)  # For example, using the minimum learning rate found"
      ]
    },
    {
      "cell_type": "code",
      "execution_count": null,
      "metadata": {
        "colab": {
          "base_uri": "https://localhost:8080/",
          "height": 72
        },
        "id": "2RT52TysIzjN",
        "outputId": "df339589-53c7-4472-8a3f-5de308ba7c27"
      },
      "outputs": [],
      "source": [
        "# Compare TTA with normal predictions on the validation set\n",
        "valid_preds, val_lables = learn.get_preds(ds_idx=1)\n",
        "valid_preds_tta, v_ta_labels = learn.tta(ds_idx=1)\n",
        "\n",
        "valid = df.loc[df.val == 1]\n",
        "print('normal score:', skll(valid['target'], valid_preds))\n",
        "print('TTA score:', skll(valid['target'], valid_preds_tta))"
      ]
    },
    {
      "cell_type": "code",
      "execution_count": null,
      "metadata": {
        "colab": {
          "base_uri": "https://localhost:8080/",
          "height": 37
        },
        "id": "q62bqOcBI7TY",
        "outputId": "b1f863a6-82cd-497d-f022-2c3b950b4879"
      },
      "outputs": [],
      "source": [
        "# Use TTA on the test set and save predictions\n",
        "test_preds_tta, test_labels_tta = learn.tta(dl=tdl)\n",
        "sub = pd.DataFrame({\n",
        "    'image':test['image'],\n",
        "    'target':[p[1] for p in test_preds_tta.numpy()]\n",
        "})\n",
        "sub.to_csv(\"/content/drive/My Drive/Colab Notebooks/Data/masked_tta_submission.csv\", index=False)\n",
        "# Score: 0.996819515"
      ]
    },
    {
      "cell_type": "markdown",
      "metadata": {
        "id": "BQ_R9XL-xb7J"
      },
      "source": [
        "### Experiment 3: Progressive Resizing"
      ]
    },
    {
      "cell_type": "code",
      "execution_count": null,
      "metadata": {
        "id": "XDSny8-P_h72"
      },
      "outputs": [],
      "source": [
        "# # Create the learner\n",
        "learn = vision_learner(dls, resnet34)"
      ]
    },
    {
      "cell_type": "code",
      "execution_count": null,
      "metadata": {
        "colab": {
          "base_uri": "https://localhost:8080/",
          "height": 670
        },
        "id": "0KEdIRYsxxWY",
        "outputId": "36999c07-55b2-4d60-a96e-9bcb9e259440"
      },
      "outputs": [],
      "source": [
        "dblock = DataBlock(\n",
        "    blocks=(ImageBlock, CategoryBlock),\n",
        "    get_items=get_im_ids,\n",
        "    get_x=get_x,\n",
        "    get_y=get_y,\n",
        "    splitter=IndexSplitter(np.argwhere(df['val'].values == 1)),\n",
        "    batch_tfms=aug_transforms(size=448, min_scale=0.9)\n",
        ")\n",
        "\n",
        "dls = dblock.dataloaders(Path(''), bs=16)\n",
        "\n",
        "learn.dls = dls # Change the dataloaders to our new ones with larger image size\n",
        "\n",
        "learn.freeze()\n",
        "\n",
        "lr_min = learn.lr_find()\n",
        "\n",
        "# Choose a learning rate(s) based on the plot generated by lr_find\n",
        "learn.fit_one_cycle(5, lr_max=lr_min)  # For example, using the minimum learning rate found"
      ]
    },
    {
      "cell_type": "code",
      "execution_count": null,
      "metadata": {
        "id": "MdtD_W2EMmUU"
      },
      "outputs": [],
      "source": [
        "# Save the model\n",
        "learn.export('/content/drive/My Drive/Colab Notebooks/mask_classifier_model_with_progressive_resizing.pkl')"
      ]
    },
    {
      "cell_type": "code",
      "execution_count": null,
      "metadata": {
        "id": "Jqq1G6i76h18"
      },
      "outputs": [],
      "source": [
        "from fastai.learner import load_learner\n",
        "\n",
        "# Load the model\n",
        "# learn = load_learner('/content/drive/My Drive/Colab Notebooks/mask_classifier_model_with_progressive_resizing.pkl')"
      ]
    },
    {
      "cell_type": "code",
      "execution_count": null,
      "metadata": {
        "colab": {
          "base_uri": "https://localhost:8080/",
          "height": 37
        },
        "id": "228gHJMFx6wv",
        "outputId": "4ca8d13e-ee8d-4d67-e07b-1b07082dd8b6"
      },
      "outputs": [],
      "source": [
        "test_preds_tta, test_labels_tta = learn.tta(dl=tdl)\n",
        "\n",
        "sub = pd.DataFrame({\n",
        "    'image':test['image'],\n",
        "    'target':[p[1] for p in test_preds_tta.numpy()]\n",
        "})\n",
        "sub.to_csv('/content/drive/My Drive/Colab Notebooks/Data/masked_submission7.csv', index=False)\n",
        "# Score: 0.541462096"
      ]
    },
    {
      "cell_type": "markdown",
      "metadata": {
        "id": "O9MIkuPgzWz9"
      },
      "source": [
        "### Experiment 4: Mix Up"
      ]
    },
    {
      "cell_type": "code",
      "execution_count": null,
      "metadata": {
        "colab": {
          "base_uri": "https://localhost:8080/",
          "height": 670
        },
        "id": "XcCelD8Z_ziZ",
        "outputId": "68966648-7945-44b1-9b5b-260abc2dda1b"
      },
      "outputs": [],
      "source": [
        "def get_x(ID):\n",
        "    # Load the image\n",
        "    im = Image.open(f'/content/drive/My Drive/Colab Notebooks/Data/images/{ID}')\n",
        "\n",
        "    # Convert grayscale image to RGB if it has only one channel\n",
        "    # if im.mode == 'L':\n",
        "    im = im.convert('RGB')\n",
        "\n",
        "    # Resize the image to a consistent size if needed\n",
        "    im = im.resize((224, 224))\n",
        "\n",
        "    # Return the image as a numpy array\n",
        "    return np.array(im)\n",
        "\n",
        "# And the label\n",
        "def get_y(ID):\n",
        "  label = df.loc[df.image == ID]['target'].values[0]\n",
        "  return int(label)\n",
        "\n",
        "# Get the list of Image IDS:\n",
        "def get_im_ids(path):\n",
        "  return df.image.values\n",
        "\n",
        "# And build the datablock\n",
        "dblock = DataBlock(\n",
        "    blocks=(ImageBlock, CategoryBlock),\n",
        "    get_items=get_im_ids,\n",
        "    get_x=get_x,\n",
        "    get_y=get_y,\n",
        "    splitter=IndexSplitter(np.argwhere(df['val'].values == 1)),\n",
        "    batch_tfms=aug_transforms(size=224, min_scale=0.75),\n",
        "    # Add Resize transform to ensure all images have the same size\n",
        "    item_tfms=Resize((224, 224))\n",
        ")\n",
        "\n",
        "dls = dblock.dataloaders(\n",
        "    Path(''),\n",
        "    bs=16,\n",
        "    seed=42,\n",
        "    batch_tfms=[*aug_transforms(size=(3, 244,244)),\n",
        "                Normalize.from_stats(*imagenet_stats)],\n",
        "    )\n",
        "\n",
        "learn = vision_learner(dls, resnet34)\n",
        "\n",
        "lr_min = learn.lr_find()\n",
        "\n",
        "# Choose a learning rate(s) based on the plot generated by lr_find\n",
        "learn.fit_one_cycle(5, lr_max=lr_min, cbs=MixUp(0.2))  # For example, using the minimum learning rate found"
      ]
    },
    {
      "cell_type": "code",
      "execution_count": null,
      "metadata": {
        "id": "ZAGqYQw666Ll"
      },
      "outputs": [],
      "source": [
        "# Save the model\n",
        "learn.export('/content/drive/My Drive/Colab Notebooks/mask_classifier_model_mixup.pkl')"
      ]
    },
    {
      "cell_type": "code",
      "execution_count": null,
      "metadata": {
        "id": "jrfeJJub65j_"
      },
      "outputs": [],
      "source": [
        "# from fastai.learner import load_learner\n",
        "\n",
        "# Load the model\n",
        "learn = load_learner('/content/drive/My Drive/Colab Notebooks/mask_classifier_model_mixup.pkl')"
      ]
    },
    {
      "cell_type": "code",
      "execution_count": null,
      "metadata": {
        "colab": {
          "base_uri": "https://localhost:8080/",
          "height": 17
        },
        "id": "70zX0TKq64j_",
        "outputId": "4870f606-1588-4449-8218-5dd8bd30ec55"
      },
      "outputs": [],
      "source": [
        "# Create a test dataloader and get predictions\n",
        "tdl = learn.dls.test_dl(test['image'].values)\n",
        "test_preds, test_labels = learn.get_preds(dl=tdl, reorder=False)\n",
        "\n",
        "sub = pd.DataFrame({\n",
        "    'image':test['image'],\n",
        "    'target':[p[1] for p in test_preds.numpy()]\n",
        "})\n",
        "\n",
        "sub.to_csv('/content/drive/My Drive/Colab Notebooks/Data/masked_mixup.csv', index=False)\n",
        "# Score: 0.996819515"
      ]
    },
    {
      "cell_type": "markdown",
      "metadata": {
        "id": "ADduGuXFtPMi"
      },
      "source": [
        "### Experiment 5: Custom Augmentation"
      ]
    },
    {
      "cell_type": "code",
      "execution_count": null,
      "metadata": {
        "colab": {
          "base_uri": "https://localhost:8080/",
          "height": 319
        },
        "id": "eoTMweFpLHOg",
        "outputId": "3e354a37-f3a7-47ad-c6ea-7989de93b311"
      },
      "outputs": [],
      "source": [
        "im = Image.open(f'/content/drive/My Drive/Colab Notebooks/Data/images/{df[\"image\"].sample().values[0]}')\n",
        "plt.imshow(np.array(im))"
      ]
    },
    {
      "cell_type": "code",
      "execution_count": null,
      "metadata": {
        "colab": {
          "base_uri": "https://localhost:8080/"
        },
        "id": "myn1P1mm5CW2",
        "outputId": "8fb60c7e-6cf5-4101-b94f-f595ec030bd5"
      },
      "outputs": [],
      "source": [
        "im.size"
      ]
    },
    {
      "cell_type": "code",
      "execution_count": null,
      "metadata": {
        "id": "TpfBx1n-5HIT"
      },
      "outputs": [],
      "source": [
        "# TODO 1: Identify faces in the image and mark them; Hint: Use MtCNN\n",
        "# TODO 2: Check if the faces are wearing masks\n",
        "# TODO 3: Return true if any of the faces is wearing a mask"
      ]
    },
    {
      "cell_type": "markdown",
      "metadata": {
        "id": "1eIkhPKeeCeo"
      },
      "source": [
        "### Experiment 6 Ensembles\n",
        "\n",
        "Average the predictions from some of our works above"
      ]
    },
    {
      "cell_type": "code",
      "execution_count": null,
      "metadata": {
        "id": "P4A5qNvdWk0_"
      },
      "outputs": [],
      "source": [
        "preds1 = pd.read_csv('/content/drive/My Drive/Colab Notebooks/Data/masked_submission3.csv')\n",
        "preds2 = pd.read_csv('/content/drive/My Drive/Colab Notebooks/Data/masked_submission2.csv')\n",
        "\n",
        "av_preds = pd.DataFrame({\n",
        "    'image':preds1['image'],\n",
        "    'target': 0.5*preds1['target'] + 0.5*preds2['target']\n",
        "})\n",
        "\n",
        "av_preds.to_csv('/content/drive/My Drive/Colab Notebooks/Data/masked_ensemble1.csv', index=False)"
      ]
    }
  ],
  "metadata": {
    "colab": {
      "provenance": []
    },
    "kernelspec": {
      "display_name": "Python 3",
      "language": "python",
      "name": "python3"
    },
    "language_info": {
      "codemirror_mode": {
        "name": "ipython",
        "version": 3
      },
      "file_extension": ".py",
      "mimetype": "text/x-python",
      "name": "python",
      "nbconvert_exporter": "python",
      "pygments_lexer": "ipython3",
      "version": "3.10.12"
    }
  },
  "nbformat": 4,
  "nbformat_minor": 0
}
